{
 "cells": [
  {
   "cell_type": "markdown",
   "id": "254e060a",
   "metadata": {},
   "source": [
    "<img src=\"https://datascibr.notion.site/image/https%3A%2F%2Fs3-us-west-2.amazonaws.com%2Fsecure.notion-static.com%2F1e2981f8-e996-4b65-bc32-dd43c6c13d0d%2Fhackathon1.png?table=block&id=69f5ee7f-c32d-49cb-b2b8-fa475342c579&spaceId=b0ad94d1-b13d-42e8-93ff-04ffcc74dc68&width=2000&userId=&cache=v2\" style=\"height: 200px\" />"
   ]
  },
  {
   "cell_type": "markdown",
   "id": "b226f6c4",
   "metadata": {},
   "source": [
    "### Resolução das principais etapas em Python"
   ]
  },
  {
   "cell_type": "code",
   "execution_count": 2,
   "id": "f05224a2",
   "metadata": {},
   "outputs": [],
   "source": [
    "import pandas as pd\n",
    "import seaborn as sns"
   ]
  },
  {
   "cell_type": "code",
   "execution_count": 3,
   "id": "ce57feb2",
   "metadata": {},
   "outputs": [
    {
     "data": {
      "text/html": [
       "<div>\n",
       "<style scoped>\n",
       "    .dataframe tbody tr th:only-of-type {\n",
       "        vertical-align: middle;\n",
       "    }\n",
       "\n",
       "    .dataframe tbody tr th {\n",
       "        vertical-align: top;\n",
       "    }\n",
       "\n",
       "    .dataframe thead th {\n",
       "        text-align: right;\n",
       "    }\n",
       "</style>\n",
       "<table border=\"1\" class=\"dataframe\">\n",
       "  <thead>\n",
       "    <tr style=\"text-align: right;\">\n",
       "      <th></th>\n",
       "      <th>Unnamed: 0</th>\n",
       "      <th>dim_loj_nome</th>\n",
       "      <th>dim_loj_estado</th>\n",
       "      <th>dim_pro_nome</th>\n",
       "      <th>dim_pro_categoria</th>\n",
       "      <th>dim_pro_familia</th>\n",
       "      <th>dim_tem_dia</th>\n",
       "      <th>dim_tem_mes</th>\n",
       "      <th>dim_tem_ano</th>\n",
       "      <th>fat_ven_quantidade</th>\n",
       "      <th>fat_ven_faturamento</th>\n",
       "    </tr>\n",
       "  </thead>\n",
       "  <tbody>\n",
       "    <tr>\n",
       "      <th>0</th>\n",
       "      <td>0</td>\n",
       "      <td>LOJA1</td>\n",
       "      <td>BA</td>\n",
       "      <td>P1</td>\n",
       "      <td>CAT1</td>\n",
       "      <td>F1</td>\n",
       "      <td>15</td>\n",
       "      <td>1</td>\n",
       "      <td>1999</td>\n",
       "      <td>10.0</td>\n",
       "      <td>20.0</td>\n",
       "    </tr>\n",
       "    <tr>\n",
       "      <th>1</th>\n",
       "      <td>1</td>\n",
       "      <td>LOJA1</td>\n",
       "      <td>BA</td>\n",
       "      <td>P2</td>\n",
       "      <td>CAT1</td>\n",
       "      <td>F1</td>\n",
       "      <td>15</td>\n",
       "      <td>1</td>\n",
       "      <td>1999</td>\n",
       "      <td>30.0</td>\n",
       "      <td>40.0</td>\n",
       "    </tr>\n",
       "    <tr>\n",
       "      <th>2</th>\n",
       "      <td>2</td>\n",
       "      <td>LOJA1</td>\n",
       "      <td>BA</td>\n",
       "      <td>P3</td>\n",
       "      <td>CAT1</td>\n",
       "      <td>F1</td>\n",
       "      <td>15</td>\n",
       "      <td>1</td>\n",
       "      <td>1999</td>\n",
       "      <td>10.0</td>\n",
       "      <td>20.0</td>\n",
       "    </tr>\n",
       "    <tr>\n",
       "      <th>3</th>\n",
       "      <td>3</td>\n",
       "      <td>LOJA1</td>\n",
       "      <td>BA</td>\n",
       "      <td>P1</td>\n",
       "      <td>CAT1</td>\n",
       "      <td>F1</td>\n",
       "      <td>15</td>\n",
       "      <td>2</td>\n",
       "      <td>1999</td>\n",
       "      <td>10.0</td>\n",
       "      <td>20.0</td>\n",
       "    </tr>\n",
       "    <tr>\n",
       "      <th>4</th>\n",
       "      <td>4</td>\n",
       "      <td>LOJA1</td>\n",
       "      <td>BA</td>\n",
       "      <td>P2</td>\n",
       "      <td>CAT1</td>\n",
       "      <td>F1</td>\n",
       "      <td>15</td>\n",
       "      <td>2</td>\n",
       "      <td>1999</td>\n",
       "      <td>30.0</td>\n",
       "      <td>40.0</td>\n",
       "    </tr>\n",
       "  </tbody>\n",
       "</table>\n",
       "</div>"
      ],
      "text/plain": [
       "   Unnamed: 0 dim_loj_nome dim_loj_estado dim_pro_nome dim_pro_categoria  \\\n",
       "0           0        LOJA1             BA           P1              CAT1   \n",
       "1           1        LOJA1             BA           P2              CAT1   \n",
       "2           2        LOJA1             BA           P3              CAT1   \n",
       "3           3        LOJA1             BA           P1              CAT1   \n",
       "4           4        LOJA1             BA           P2              CAT1   \n",
       "\n",
       "  dim_pro_familia  dim_tem_dia  dim_tem_mes  dim_tem_ano  fat_ven_quantidade  \\\n",
       "0            F1             15            1         1999                10.0   \n",
       "1            F1             15            1         1999                30.0   \n",
       "2            F1             15            1         1999                10.0   \n",
       "3            F1             15            2         1999                10.0   \n",
       "4            F1             15            2         1999                30.0   \n",
       "\n",
       "   fat_ven_faturamento  \n",
       "0                 20.0  \n",
       "1                 40.0  \n",
       "2                 20.0  \n",
       "3                 20.0  \n",
       "4                 40.0  "
      ]
     },
     "execution_count": 3,
     "metadata": {},
     "output_type": "execute_result"
    }
   ],
   "source": [
    "df = pd.read_csv('dw_vendas.csv')\n",
    "df.head()"
   ]
  },
  {
   "cell_type": "markdown",
   "id": "054e73d7",
   "metadata": {},
   "source": [
    "### Etapa 03\n"
   ]
  },
  {
   "cell_type": "markdown",
   "id": "84286049",
   "metadata": {},
   "source": [
    "- Listar os estados da dimensão DIM_LOJA"
   ]
  },
  {
   "cell_type": "code",
   "execution_count": 84,
   "id": "a00f3897",
   "metadata": {},
   "outputs": [
    {
     "data": {
      "text/html": [
       "<div>\n",
       "<style scoped>\n",
       "    .dataframe tbody tr th:only-of-type {\n",
       "        vertical-align: middle;\n",
       "    }\n",
       "\n",
       "    .dataframe tbody tr th {\n",
       "        vertical-align: top;\n",
       "    }\n",
       "\n",
       "    .dataframe thead th {\n",
       "        text-align: right;\n",
       "    }\n",
       "</style>\n",
       "<table border=\"1\" class=\"dataframe\">\n",
       "  <thead>\n",
       "    <tr style=\"text-align: right;\">\n",
       "      <th></th>\n",
       "      <th>dim_loj_nome</th>\n",
       "      <th>dim_loj_estado</th>\n",
       "    </tr>\n",
       "  </thead>\n",
       "  <tbody>\n",
       "    <tr>\n",
       "      <th>0</th>\n",
       "      <td>LOJA1</td>\n",
       "      <td>BA</td>\n",
       "    </tr>\n",
       "    <tr>\n",
       "      <th>1</th>\n",
       "      <td>LOJA1</td>\n",
       "      <td>BA</td>\n",
       "    </tr>\n",
       "    <tr>\n",
       "      <th>2</th>\n",
       "      <td>LOJA1</td>\n",
       "      <td>BA</td>\n",
       "    </tr>\n",
       "    <tr>\n",
       "      <th>3</th>\n",
       "      <td>LOJA1</td>\n",
       "      <td>BA</td>\n",
       "    </tr>\n",
       "    <tr>\n",
       "      <th>4</th>\n",
       "      <td>LOJA1</td>\n",
       "      <td>BA</td>\n",
       "    </tr>\n",
       "    <tr>\n",
       "      <th>5</th>\n",
       "      <td>LOJA1</td>\n",
       "      <td>BA</td>\n",
       "    </tr>\n",
       "    <tr>\n",
       "      <th>6</th>\n",
       "      <td>LOJA2</td>\n",
       "      <td>BA</td>\n",
       "    </tr>\n",
       "    <tr>\n",
       "      <th>7</th>\n",
       "      <td>LOJA2</td>\n",
       "      <td>BA</td>\n",
       "    </tr>\n",
       "    <tr>\n",
       "      <th>8</th>\n",
       "      <td>LOJA2</td>\n",
       "      <td>BA</td>\n",
       "    </tr>\n",
       "    <tr>\n",
       "      <th>9</th>\n",
       "      <td>LOJA2</td>\n",
       "      <td>BA</td>\n",
       "    </tr>\n",
       "    <tr>\n",
       "      <th>10</th>\n",
       "      <td>LOJA2</td>\n",
       "      <td>BA</td>\n",
       "    </tr>\n",
       "    <tr>\n",
       "      <th>11</th>\n",
       "      <td>LOJA3</td>\n",
       "      <td>PB</td>\n",
       "    </tr>\n",
       "    <tr>\n",
       "      <th>12</th>\n",
       "      <td>LOJA3</td>\n",
       "      <td>PB</td>\n",
       "    </tr>\n",
       "    <tr>\n",
       "      <th>13</th>\n",
       "      <td>LOJA3</td>\n",
       "      <td>PB</td>\n",
       "    </tr>\n",
       "    <tr>\n",
       "      <th>14</th>\n",
       "      <td>LOJA3</td>\n",
       "      <td>PB</td>\n",
       "    </tr>\n",
       "    <tr>\n",
       "      <th>15</th>\n",
       "      <td>LOJA3</td>\n",
       "      <td>PB</td>\n",
       "    </tr>\n",
       "    <tr>\n",
       "      <th>16</th>\n",
       "      <td>LOJA1</td>\n",
       "      <td>BA</td>\n",
       "    </tr>\n",
       "    <tr>\n",
       "      <th>17</th>\n",
       "      <td>LOJA1</td>\n",
       "      <td>BA</td>\n",
       "    </tr>\n",
       "    <tr>\n",
       "      <th>18</th>\n",
       "      <td>LOJA1</td>\n",
       "      <td>BA</td>\n",
       "    </tr>\n",
       "    <tr>\n",
       "      <th>19</th>\n",
       "      <td>LOJA1</td>\n",
       "      <td>BA</td>\n",
       "    </tr>\n",
       "    <tr>\n",
       "      <th>20</th>\n",
       "      <td>LOJA1</td>\n",
       "      <td>BA</td>\n",
       "    </tr>\n",
       "    <tr>\n",
       "      <th>21</th>\n",
       "      <td>LOJA1</td>\n",
       "      <td>BA</td>\n",
       "    </tr>\n",
       "    <tr>\n",
       "      <th>22</th>\n",
       "      <td>LOJA2</td>\n",
       "      <td>BA</td>\n",
       "    </tr>\n",
       "    <tr>\n",
       "      <th>23</th>\n",
       "      <td>LOJA2</td>\n",
       "      <td>BA</td>\n",
       "    </tr>\n",
       "    <tr>\n",
       "      <th>24</th>\n",
       "      <td>LOJA2</td>\n",
       "      <td>BA</td>\n",
       "    </tr>\n",
       "    <tr>\n",
       "      <th>25</th>\n",
       "      <td>LOJA2</td>\n",
       "      <td>BA</td>\n",
       "    </tr>\n",
       "    <tr>\n",
       "      <th>26</th>\n",
       "      <td>LOJA2</td>\n",
       "      <td>BA</td>\n",
       "    </tr>\n",
       "    <tr>\n",
       "      <th>27</th>\n",
       "      <td>LOJA3</td>\n",
       "      <td>PB</td>\n",
       "    </tr>\n",
       "    <tr>\n",
       "      <th>28</th>\n",
       "      <td>LOJA3</td>\n",
       "      <td>PB</td>\n",
       "    </tr>\n",
       "    <tr>\n",
       "      <th>29</th>\n",
       "      <td>LOJA3</td>\n",
       "      <td>PB</td>\n",
       "    </tr>\n",
       "    <tr>\n",
       "      <th>30</th>\n",
       "      <td>LOJA3</td>\n",
       "      <td>PB</td>\n",
       "    </tr>\n",
       "    <tr>\n",
       "      <th>31</th>\n",
       "      <td>LOJA3</td>\n",
       "      <td>PB</td>\n",
       "    </tr>\n",
       "    <tr>\n",
       "      <th>32</th>\n",
       "      <td>LOJA3</td>\n",
       "      <td>PB</td>\n",
       "    </tr>\n",
       "    <tr>\n",
       "      <th>33</th>\n",
       "      <td>LOJA3</td>\n",
       "      <td>PB</td>\n",
       "    </tr>\n",
       "    <tr>\n",
       "      <th>34</th>\n",
       "      <td>LOJA3</td>\n",
       "      <td>PB</td>\n",
       "    </tr>\n",
       "  </tbody>\n",
       "</table>\n",
       "</div>"
      ],
      "text/plain": [
       "   dim_loj_nome dim_loj_estado\n",
       "0         LOJA1             BA\n",
       "1         LOJA1             BA\n",
       "2         LOJA1             BA\n",
       "3         LOJA1             BA\n",
       "4         LOJA1             BA\n",
       "5         LOJA1             BA\n",
       "6         LOJA2             BA\n",
       "7         LOJA2             BA\n",
       "8         LOJA2             BA\n",
       "9         LOJA2             BA\n",
       "10        LOJA2             BA\n",
       "11        LOJA3             PB\n",
       "12        LOJA3             PB\n",
       "13        LOJA3             PB\n",
       "14        LOJA3             PB\n",
       "15        LOJA3             PB\n",
       "16        LOJA1             BA\n",
       "17        LOJA1             BA\n",
       "18        LOJA1             BA\n",
       "19        LOJA1             BA\n",
       "20        LOJA1             BA\n",
       "21        LOJA1             BA\n",
       "22        LOJA2             BA\n",
       "23        LOJA2             BA\n",
       "24        LOJA2             BA\n",
       "25        LOJA2             BA\n",
       "26        LOJA2             BA\n",
       "27        LOJA3             PB\n",
       "28        LOJA3             PB\n",
       "29        LOJA3             PB\n",
       "30        LOJA3             PB\n",
       "31        LOJA3             PB\n",
       "32        LOJA3             PB\n",
       "33        LOJA3             PB\n",
       "34        LOJA3             PB"
      ]
     },
     "execution_count": 84,
     "metadata": {},
     "output_type": "execute_result"
    }
   ],
   "source": [
    "dim_loja = df[['dim_loj_nome', 'dim_loj_estado']]\n",
    "dim_loja"
   ]
  },
  {
   "cell_type": "markdown",
   "id": "279b5398",
   "metadata": {},
   "source": [
    "- Listar os estados sem repetição da dimensão DIM_LOJA"
   ]
  },
  {
   "cell_type": "code",
   "execution_count": 5,
   "id": "6fce1965",
   "metadata": {},
   "outputs": [
    {
     "data": {
      "text/plain": [
       "0     BA\n",
       "11    PB\n",
       "Name: dim_loj_estado, dtype: object"
      ]
     },
     "execution_count": 5,
     "metadata": {},
     "output_type": "execute_result"
    }
   ],
   "source": [
    "dim_loja['dim_loj_estado'].drop_duplicates()"
   ]
  },
  {
   "cell_type": "markdown",
   "id": "7e5314f3",
   "metadata": {},
   "source": [
    "- Listar o campus da dimensão DIM_LOJA filtrados pelo estado BA"
   ]
  },
  {
   "cell_type": "code",
   "execution_count": 6,
   "id": "e191aa11",
   "metadata": {},
   "outputs": [
    {
     "data": {
      "text/html": [
       "<div>\n",
       "<style scoped>\n",
       "    .dataframe tbody tr th:only-of-type {\n",
       "        vertical-align: middle;\n",
       "    }\n",
       "\n",
       "    .dataframe tbody tr th {\n",
       "        vertical-align: top;\n",
       "    }\n",
       "\n",
       "    .dataframe thead th {\n",
       "        text-align: right;\n",
       "    }\n",
       "</style>\n",
       "<table border=\"1\" class=\"dataframe\">\n",
       "  <thead>\n",
       "    <tr style=\"text-align: right;\">\n",
       "      <th></th>\n",
       "      <th>dim_loj_nome</th>\n",
       "      <th>dim_loj_estado</th>\n",
       "    </tr>\n",
       "  </thead>\n",
       "  <tbody>\n",
       "    <tr>\n",
       "      <th>0</th>\n",
       "      <td>LOJA1</td>\n",
       "      <td>BA</td>\n",
       "    </tr>\n",
       "    <tr>\n",
       "      <th>1</th>\n",
       "      <td>LOJA1</td>\n",
       "      <td>BA</td>\n",
       "    </tr>\n",
       "    <tr>\n",
       "      <th>2</th>\n",
       "      <td>LOJA1</td>\n",
       "      <td>BA</td>\n",
       "    </tr>\n",
       "    <tr>\n",
       "      <th>3</th>\n",
       "      <td>LOJA1</td>\n",
       "      <td>BA</td>\n",
       "    </tr>\n",
       "    <tr>\n",
       "      <th>4</th>\n",
       "      <td>LOJA1</td>\n",
       "      <td>BA</td>\n",
       "    </tr>\n",
       "    <tr>\n",
       "      <th>5</th>\n",
       "      <td>LOJA1</td>\n",
       "      <td>BA</td>\n",
       "    </tr>\n",
       "    <tr>\n",
       "      <th>6</th>\n",
       "      <td>LOJA2</td>\n",
       "      <td>BA</td>\n",
       "    </tr>\n",
       "    <tr>\n",
       "      <th>7</th>\n",
       "      <td>LOJA2</td>\n",
       "      <td>BA</td>\n",
       "    </tr>\n",
       "    <tr>\n",
       "      <th>8</th>\n",
       "      <td>LOJA2</td>\n",
       "      <td>BA</td>\n",
       "    </tr>\n",
       "    <tr>\n",
       "      <th>9</th>\n",
       "      <td>LOJA2</td>\n",
       "      <td>BA</td>\n",
       "    </tr>\n",
       "    <tr>\n",
       "      <th>10</th>\n",
       "      <td>LOJA2</td>\n",
       "      <td>BA</td>\n",
       "    </tr>\n",
       "    <tr>\n",
       "      <th>16</th>\n",
       "      <td>LOJA1</td>\n",
       "      <td>BA</td>\n",
       "    </tr>\n",
       "    <tr>\n",
       "      <th>17</th>\n",
       "      <td>LOJA1</td>\n",
       "      <td>BA</td>\n",
       "    </tr>\n",
       "    <tr>\n",
       "      <th>18</th>\n",
       "      <td>LOJA1</td>\n",
       "      <td>BA</td>\n",
       "    </tr>\n",
       "    <tr>\n",
       "      <th>19</th>\n",
       "      <td>LOJA1</td>\n",
       "      <td>BA</td>\n",
       "    </tr>\n",
       "    <tr>\n",
       "      <th>20</th>\n",
       "      <td>LOJA1</td>\n",
       "      <td>BA</td>\n",
       "    </tr>\n",
       "    <tr>\n",
       "      <th>21</th>\n",
       "      <td>LOJA1</td>\n",
       "      <td>BA</td>\n",
       "    </tr>\n",
       "    <tr>\n",
       "      <th>22</th>\n",
       "      <td>LOJA2</td>\n",
       "      <td>BA</td>\n",
       "    </tr>\n",
       "    <tr>\n",
       "      <th>23</th>\n",
       "      <td>LOJA2</td>\n",
       "      <td>BA</td>\n",
       "    </tr>\n",
       "    <tr>\n",
       "      <th>24</th>\n",
       "      <td>LOJA2</td>\n",
       "      <td>BA</td>\n",
       "    </tr>\n",
       "    <tr>\n",
       "      <th>25</th>\n",
       "      <td>LOJA2</td>\n",
       "      <td>BA</td>\n",
       "    </tr>\n",
       "    <tr>\n",
       "      <th>26</th>\n",
       "      <td>LOJA2</td>\n",
       "      <td>BA</td>\n",
       "    </tr>\n",
       "  </tbody>\n",
       "</table>\n",
       "</div>"
      ],
      "text/plain": [
       "   dim_loj_nome dim_loj_estado\n",
       "0         LOJA1             BA\n",
       "1         LOJA1             BA\n",
       "2         LOJA1             BA\n",
       "3         LOJA1             BA\n",
       "4         LOJA1             BA\n",
       "5         LOJA1             BA\n",
       "6         LOJA2             BA\n",
       "7         LOJA2             BA\n",
       "8         LOJA2             BA\n",
       "9         LOJA2             BA\n",
       "10        LOJA2             BA\n",
       "16        LOJA1             BA\n",
       "17        LOJA1             BA\n",
       "18        LOJA1             BA\n",
       "19        LOJA1             BA\n",
       "20        LOJA1             BA\n",
       "21        LOJA1             BA\n",
       "22        LOJA2             BA\n",
       "23        LOJA2             BA\n",
       "24        LOJA2             BA\n",
       "25        LOJA2             BA\n",
       "26        LOJA2             BA"
      ]
     },
     "execution_count": 6,
     "metadata": {},
     "output_type": "execute_result"
    }
   ],
   "source": [
    "dim_loja.query(\"dim_loj_estado == 'BA'\")"
   ]
  },
  {
   "cell_type": "markdown",
   "id": "d4fbba5c",
   "metadata": {},
   "source": [
    "- Calcular o faturamento total da tabela de fatos FAT_VENDAS"
   ]
  },
  {
   "cell_type": "code",
   "execution_count": 7,
   "id": "f38289b7",
   "metadata": {},
   "outputs": [
    {
     "data": {
      "text/plain": [
       "1065.0"
      ]
     },
     "execution_count": 7,
     "metadata": {},
     "output_type": "execute_result"
    }
   ],
   "source": [
    "df['fat_ven_faturamento'].sum()"
   ]
  },
  {
   "cell_type": "markdown",
   "id": "71e4c7c2",
   "metadata": {},
   "source": [
    "### Etapa 04"
   ]
  },
  {
   "cell_type": "markdown",
   "id": "42fa460d",
   "metadata": {},
   "source": [
    "- Criar uma nova coluna de tempo (mês/ano)"
   ]
  },
  {
   "cell_type": "code",
   "execution_count": 8,
   "id": "2f2e5318",
   "metadata": {},
   "outputs": [],
   "source": [
    "df['dim_tem_ano'] = df['dim_tem_ano'].astype(str)\n",
    "df['dim_tem_mes'] = df['dim_tem_mes'].astype(str)\n",
    "df['dim_tem_dia'] = df['dim_tem_dia'].astype(str)\n",
    "df['date'] = pd.to_datetime(df['dim_tem_ano']+'-'+df['dim_tem_mes']+'-'+df['dim_tem_dia'])"
   ]
  },
  {
   "cell_type": "code",
   "execution_count": 9,
   "id": "e33e2c81",
   "metadata": {},
   "outputs": [],
   "source": [
    "df['dim_tem_mes_ano'] = df['date'].dt.strftime('%m/%Y')"
   ]
  },
  {
   "cell_type": "code",
   "execution_count": 10,
   "id": "7edd65cf",
   "metadata": {},
   "outputs": [
    {
     "data": {
      "text/html": [
       "<div>\n",
       "<style scoped>\n",
       "    .dataframe tbody tr th:only-of-type {\n",
       "        vertical-align: middle;\n",
       "    }\n",
       "\n",
       "    .dataframe tbody tr th {\n",
       "        vertical-align: top;\n",
       "    }\n",
       "\n",
       "    .dataframe thead th {\n",
       "        text-align: right;\n",
       "    }\n",
       "</style>\n",
       "<table border=\"1\" class=\"dataframe\">\n",
       "  <thead>\n",
       "    <tr style=\"text-align: right;\">\n",
       "      <th></th>\n",
       "      <th>Unnamed: 0</th>\n",
       "      <th>dim_loj_nome</th>\n",
       "      <th>dim_loj_estado</th>\n",
       "      <th>dim_pro_nome</th>\n",
       "      <th>dim_pro_categoria</th>\n",
       "      <th>dim_pro_familia</th>\n",
       "      <th>dim_tem_dia</th>\n",
       "      <th>dim_tem_mes</th>\n",
       "      <th>dim_tem_ano</th>\n",
       "      <th>fat_ven_quantidade</th>\n",
       "      <th>fat_ven_faturamento</th>\n",
       "      <th>date</th>\n",
       "      <th>dim_tem_mes_ano</th>\n",
       "    </tr>\n",
       "  </thead>\n",
       "  <tbody>\n",
       "    <tr>\n",
       "      <th>0</th>\n",
       "      <td>0</td>\n",
       "      <td>LOJA1</td>\n",
       "      <td>BA</td>\n",
       "      <td>P1</td>\n",
       "      <td>CAT1</td>\n",
       "      <td>F1</td>\n",
       "      <td>15</td>\n",
       "      <td>1</td>\n",
       "      <td>1999</td>\n",
       "      <td>10.0</td>\n",
       "      <td>20.0</td>\n",
       "      <td>1999-01-15</td>\n",
       "      <td>01/1999</td>\n",
       "    </tr>\n",
       "    <tr>\n",
       "      <th>1</th>\n",
       "      <td>1</td>\n",
       "      <td>LOJA1</td>\n",
       "      <td>BA</td>\n",
       "      <td>P2</td>\n",
       "      <td>CAT1</td>\n",
       "      <td>F1</td>\n",
       "      <td>15</td>\n",
       "      <td>1</td>\n",
       "      <td>1999</td>\n",
       "      <td>30.0</td>\n",
       "      <td>40.0</td>\n",
       "      <td>1999-01-15</td>\n",
       "      <td>01/1999</td>\n",
       "    </tr>\n",
       "    <tr>\n",
       "      <th>2</th>\n",
       "      <td>2</td>\n",
       "      <td>LOJA1</td>\n",
       "      <td>BA</td>\n",
       "      <td>P3</td>\n",
       "      <td>CAT1</td>\n",
       "      <td>F1</td>\n",
       "      <td>15</td>\n",
       "      <td>1</td>\n",
       "      <td>1999</td>\n",
       "      <td>10.0</td>\n",
       "      <td>20.0</td>\n",
       "      <td>1999-01-15</td>\n",
       "      <td>01/1999</td>\n",
       "    </tr>\n",
       "    <tr>\n",
       "      <th>3</th>\n",
       "      <td>3</td>\n",
       "      <td>LOJA1</td>\n",
       "      <td>BA</td>\n",
       "      <td>P1</td>\n",
       "      <td>CAT1</td>\n",
       "      <td>F1</td>\n",
       "      <td>15</td>\n",
       "      <td>2</td>\n",
       "      <td>1999</td>\n",
       "      <td>10.0</td>\n",
       "      <td>20.0</td>\n",
       "      <td>1999-02-15</td>\n",
       "      <td>02/1999</td>\n",
       "    </tr>\n",
       "    <tr>\n",
       "      <th>4</th>\n",
       "      <td>4</td>\n",
       "      <td>LOJA1</td>\n",
       "      <td>BA</td>\n",
       "      <td>P2</td>\n",
       "      <td>CAT1</td>\n",
       "      <td>F1</td>\n",
       "      <td>15</td>\n",
       "      <td>2</td>\n",
       "      <td>1999</td>\n",
       "      <td>30.0</td>\n",
       "      <td>40.0</td>\n",
       "      <td>1999-02-15</td>\n",
       "      <td>02/1999</td>\n",
       "    </tr>\n",
       "  </tbody>\n",
       "</table>\n",
       "</div>"
      ],
      "text/plain": [
       "   Unnamed: 0 dim_loj_nome dim_loj_estado dim_pro_nome dim_pro_categoria  \\\n",
       "0           0        LOJA1             BA           P1              CAT1   \n",
       "1           1        LOJA1             BA           P2              CAT1   \n",
       "2           2        LOJA1             BA           P3              CAT1   \n",
       "3           3        LOJA1             BA           P1              CAT1   \n",
       "4           4        LOJA1             BA           P2              CAT1   \n",
       "\n",
       "  dim_pro_familia dim_tem_dia dim_tem_mes dim_tem_ano  fat_ven_quantidade  \\\n",
       "0            F1            15           1        1999                10.0   \n",
       "1            F1            15           1        1999                30.0   \n",
       "2            F1            15           1        1999                10.0   \n",
       "3            F1            15           2        1999                10.0   \n",
       "4            F1            15           2        1999                30.0   \n",
       "\n",
       "   fat_ven_faturamento       date dim_tem_mes_ano  \n",
       "0                 20.0 1999-01-15         01/1999  \n",
       "1                 40.0 1999-01-15         01/1999  \n",
       "2                 20.0 1999-01-15         01/1999  \n",
       "3                 20.0 1999-02-15         02/1999  \n",
       "4                 40.0 1999-02-15         02/1999  "
      ]
     },
     "execution_count": 10,
     "metadata": {},
     "output_type": "execute_result"
    }
   ],
   "source": [
    "df.head()"
   ]
  },
  {
   "cell_type": "markdown",
   "id": "3016075e",
   "metadata": {},
   "source": [
    "### Etapa 05"
   ]
  },
  {
   "cell_type": "markdown",
   "id": "1b9f1943",
   "metadata": {},
   "source": [
    "- Criar a consulta DAX para retornar o total do faturamento das vendas\n",
    "referentes a Categoria=“CAT1” (DIM_PRODUTO) e do Estado=“BA” (DIM_LOJA)"
   ]
  },
  {
   "cell_type": "code",
   "execution_count": 45,
   "id": "1cd07fe9",
   "metadata": {},
   "outputs": [],
   "source": [
    "keys = ['dim_loj_nome', \"dim_pro_categoria\", \n",
    "        \"dim_loj_estado\",  'fat_ven_faturamento',\n",
    "       'dim_tem_mes_ano', 'date']"
   ]
  },
  {
   "cell_type": "code",
   "execution_count": 46,
   "id": "38e3ac91",
   "metadata": {},
   "outputs": [
    {
     "data": {
      "text/html": [
       "<div>\n",
       "<style scoped>\n",
       "    .dataframe tbody tr th:only-of-type {\n",
       "        vertical-align: middle;\n",
       "    }\n",
       "\n",
       "    .dataframe tbody tr th {\n",
       "        vertical-align: top;\n",
       "    }\n",
       "\n",
       "    .dataframe thead th {\n",
       "        text-align: right;\n",
       "    }\n",
       "</style>\n",
       "<table border=\"1\" class=\"dataframe\">\n",
       "  <thead>\n",
       "    <tr style=\"text-align: right;\">\n",
       "      <th></th>\n",
       "      <th>dim_loj_nome</th>\n",
       "      <th>dim_tem_mes_ano</th>\n",
       "      <th>date</th>\n",
       "      <th>fat_ven_faturamento</th>\n",
       "    </tr>\n",
       "  </thead>\n",
       "  <tbody>\n",
       "    <tr>\n",
       "      <th>0</th>\n",
       "      <td>LOJA1</td>\n",
       "      <td>01/1999</td>\n",
       "      <td>1999-01-15</td>\n",
       "      <td>80.0</td>\n",
       "    </tr>\n",
       "    <tr>\n",
       "      <th>4</th>\n",
       "      <td>LOJA2</td>\n",
       "      <td>01/1999</td>\n",
       "      <td>1999-01-15</td>\n",
       "      <td>60.0</td>\n",
       "    </tr>\n",
       "    <tr>\n",
       "      <th>2</th>\n",
       "      <td>LOJA1</td>\n",
       "      <td>02/1999</td>\n",
       "      <td>1999-02-15</td>\n",
       "      <td>60.0</td>\n",
       "    </tr>\n",
       "    <tr>\n",
       "      <th>6</th>\n",
       "      <td>LOJA2</td>\n",
       "      <td>02/1999</td>\n",
       "      <td>1999-02-15</td>\n",
       "      <td>60.0</td>\n",
       "    </tr>\n",
       "    <tr>\n",
       "      <th>1</th>\n",
       "      <td>LOJA1</td>\n",
       "      <td>01/2000</td>\n",
       "      <td>2000-01-15</td>\n",
       "      <td>98.0</td>\n",
       "    </tr>\n",
       "    <tr>\n",
       "      <th>5</th>\n",
       "      <td>LOJA2</td>\n",
       "      <td>01/2000</td>\n",
       "      <td>2000-01-15</td>\n",
       "      <td>71.0</td>\n",
       "    </tr>\n",
       "    <tr>\n",
       "      <th>3</th>\n",
       "      <td>LOJA1</td>\n",
       "      <td>02/2000</td>\n",
       "      <td>2000-02-15</td>\n",
       "      <td>100.0</td>\n",
       "    </tr>\n",
       "    <tr>\n",
       "      <th>7</th>\n",
       "      <td>LOJA2</td>\n",
       "      <td>02/2000</td>\n",
       "      <td>2000-02-15</td>\n",
       "      <td>94.0</td>\n",
       "    </tr>\n",
       "  </tbody>\n",
       "</table>\n",
       "</div>"
      ],
      "text/plain": [
       "  dim_loj_nome dim_tem_mes_ano       date  fat_ven_faturamento\n",
       "0        LOJA1         01/1999 1999-01-15                 80.0\n",
       "4        LOJA2         01/1999 1999-01-15                 60.0\n",
       "2        LOJA1         02/1999 1999-02-15                 60.0\n",
       "6        LOJA2         02/1999 1999-02-15                 60.0\n",
       "1        LOJA1         01/2000 2000-01-15                 98.0\n",
       "5        LOJA2         01/2000 2000-01-15                 71.0\n",
       "3        LOJA1         02/2000 2000-02-15                100.0\n",
       "7        LOJA2         02/2000 2000-02-15                 94.0"
      ]
     },
     "execution_count": 46,
     "metadata": {},
     "output_type": "execute_result"
    }
   ],
   "source": [
    "df_cat1_ba = (\n",
    "    df.loc[:, keys]\n",
    "    .query(\"dim_pro_categoria == 'CAT1' & dim_loj_estado == 'BA'\")\n",
    "    .groupby(['dim_loj_nome', 'dim_tem_mes_ano', 'date'], as_index=False)\n",
    "    .sum()\n",
    "    .sort_values(by='date')\n",
    ")\n",
    "df_cat1_ba"
   ]
  },
  {
   "cell_type": "markdown",
   "id": "38348e0c",
   "metadata": {},
   "source": [
    "### Etapa 06\n"
   ]
  },
  {
   "cell_type": "markdown",
   "id": "105ab7ac",
   "metadata": {},
   "source": [
    "- Criar a consulta DAX para retornar o total do faturamento das vendas\n",
    "referente ao ano de 1999 do estado “BA”."
   ]
  },
  {
   "cell_type": "code",
   "execution_count": 13,
   "id": "ec1f26fd",
   "metadata": {},
   "outputs": [],
   "source": [
    "keys = ['dim_loj_nome', \"dim_tem_ano\", \n",
    "         'dim_pro_categoria', \"dim_loj_estado\", \n",
    "         'fat_ven_faturamento'] "
   ]
  },
  {
   "cell_type": "code",
   "execution_count": 14,
   "id": "c98dc8bd",
   "metadata": {},
   "outputs": [
    {
     "data": {
      "text/html": [
       "<div>\n",
       "<style scoped>\n",
       "    .dataframe tbody tr th:only-of-type {\n",
       "        vertical-align: middle;\n",
       "    }\n",
       "\n",
       "    .dataframe tbody tr th {\n",
       "        vertical-align: top;\n",
       "    }\n",
       "\n",
       "    .dataframe thead th {\n",
       "        text-align: right;\n",
       "    }\n",
       "</style>\n",
       "<table border=\"1\" class=\"dataframe\">\n",
       "  <thead>\n",
       "    <tr style=\"text-align: right;\">\n",
       "      <th></th>\n",
       "      <th>dim_loj_nome</th>\n",
       "      <th>dim_pro_categoria</th>\n",
       "      <th>fat_ven_faturamento</th>\n",
       "    </tr>\n",
       "  </thead>\n",
       "  <tbody>\n",
       "    <tr>\n",
       "      <th>1</th>\n",
       "      <td>LOJA1</td>\n",
       "      <td>CAT2</td>\n",
       "      <td>20.0</td>\n",
       "    </tr>\n",
       "    <tr>\n",
       "      <th>3</th>\n",
       "      <td>LOJA2</td>\n",
       "      <td>CAT2</td>\n",
       "      <td>20.0</td>\n",
       "    </tr>\n",
       "    <tr>\n",
       "      <th>2</th>\n",
       "      <td>LOJA2</td>\n",
       "      <td>CAT1</td>\n",
       "      <td>120.0</td>\n",
       "    </tr>\n",
       "    <tr>\n",
       "      <th>0</th>\n",
       "      <td>LOJA1</td>\n",
       "      <td>CAT1</td>\n",
       "      <td>140.0</td>\n",
       "    </tr>\n",
       "  </tbody>\n",
       "</table>\n",
       "</div>"
      ],
      "text/plain": [
       "  dim_loj_nome dim_pro_categoria  fat_ven_faturamento\n",
       "1        LOJA1              CAT2                 20.0\n",
       "3        LOJA2              CAT2                 20.0\n",
       "2        LOJA2              CAT1                120.0\n",
       "0        LOJA1              CAT1                140.0"
      ]
     },
     "execution_count": 14,
     "metadata": {},
     "output_type": "execute_result"
    }
   ],
   "source": [
    "df_1999_ba = (\n",
    "    df.loc[:, keys]\n",
    "    .query(\"dim_tem_ano == '1999' & dim_loj_estado == 'BA'\")\n",
    "    .groupby(['dim_loj_nome', 'dim_pro_categoria'], as_index=False)\n",
    "    .sum()\n",
    "    .sort_values(by='fat_ven_faturamento')\n",
    ")\n",
    "df_1999_ba"
   ]
  },
  {
   "cell_type": "code",
   "execution_count": 15,
   "id": "9319ac2d",
   "metadata": {},
   "outputs": [
    {
     "data": {
      "text/html": [
       "<div>\n",
       "<style scoped>\n",
       "    .dataframe tbody tr th:only-of-type {\n",
       "        vertical-align: middle;\n",
       "    }\n",
       "\n",
       "    .dataframe tbody tr th {\n",
       "        vertical-align: top;\n",
       "    }\n",
       "\n",
       "    .dataframe thead th {\n",
       "        text-align: right;\n",
       "    }\n",
       "</style>\n",
       "<table border=\"1\" class=\"dataframe\">\n",
       "  <thead>\n",
       "    <tr style=\"text-align: right;\">\n",
       "      <th></th>\n",
       "      <th>dim_loj_nome</th>\n",
       "      <th>dim_pro_categoria</th>\n",
       "      <th>fat_ven_faturamento</th>\n",
       "    </tr>\n",
       "  </thead>\n",
       "  <tbody>\n",
       "    <tr>\n",
       "      <th>1</th>\n",
       "      <td>LOJA1</td>\n",
       "      <td>CAT2</td>\n",
       "      <td>20.0</td>\n",
       "    </tr>\n",
       "    <tr>\n",
       "      <th>3</th>\n",
       "      <td>LOJA2</td>\n",
       "      <td>CAT2</td>\n",
       "      <td>20.0</td>\n",
       "    </tr>\n",
       "    <tr>\n",
       "      <th>2</th>\n",
       "      <td>LOJA2</td>\n",
       "      <td>CAT1</td>\n",
       "      <td>120.0</td>\n",
       "    </tr>\n",
       "    <tr>\n",
       "      <th>0</th>\n",
       "      <td>LOJA1</td>\n",
       "      <td>CAT1</td>\n",
       "      <td>140.0</td>\n",
       "    </tr>\n",
       "  </tbody>\n",
       "</table>\n",
       "</div>"
      ],
      "text/plain": [
       "  dim_loj_nome dim_pro_categoria  fat_ven_faturamento\n",
       "1        LOJA1              CAT2                 20.0\n",
       "3        LOJA2              CAT2                 20.0\n",
       "2        LOJA2              CAT1                120.0\n",
       "0        LOJA1              CAT1                140.0"
      ]
     },
     "execution_count": 15,
     "metadata": {},
     "output_type": "execute_result"
    }
   ],
   "source": [
    "df_1999_ba"
   ]
  },
  {
   "cell_type": "markdown",
   "id": "50b3e425",
   "metadata": {},
   "source": [
    "### Etapa 07"
   ]
  },
  {
   "cell_type": "markdown",
   "id": "2e7d05ad",
   "metadata": {},
   "source": [
    "- Criar as tabelas referente ao Passo V e VI\n",
    "- Apresentar as tabelas com os componentes"
   ]
  },
  {
   "cell_type": "markdown",
   "id": "35664602",
   "metadata": {},
   "source": [
    "<img src=\"https://datascibr.notion.site/image/https%3A%2F%2Fs3-us-west-2.amazonaws.com%2Fsecure.notion-static.com%2F2a5296be-e62e-4dbc-8d4f-1f4d74b6bb68%2FpassoVII.png?table=block&id=e15864f4-8386-4975-8a69-e2a5553b476e&spaceId=b0ad94d1-b13d-42e8-93ff-04ffcc74dc68&width=1060&userId=&cache=v2\" style=\"width: 250px\" />"
   ]
  },
  {
   "cell_type": "code",
   "execution_count": 16,
   "id": "a4f68cbb",
   "metadata": {},
   "outputs": [],
   "source": [
    "def catesian_format(dataframe, key):\n",
    "    source_obj = {}\n",
    "    for header in dataframe[key]:\n",
    "        query = dataframe.query(f'{key} == \"{header}\"')\n",
    "        fat_ven = query['fat_ven_faturamento'].to_list()\n",
    "        source_obj[header] = fat_ven\n",
    "    \n",
    "    return pd.DataFrame.from_dict(source_obj)"
   ]
  },
  {
   "cell_type": "markdown",
   "id": "b4364f6e",
   "metadata": {},
   "source": [
    "#### Tabela Cat1 Ba (Etapa 05) "
   ]
  },
  {
   "cell_type": "code",
   "execution_count": 17,
   "id": "74f7f749",
   "metadata": {},
   "outputs": [],
   "source": [
    "table_cat1_ba = catesian_format(df_cat1_ba, 'dim_tem_mes_ano')"
   ]
  },
  {
   "cell_type": "code",
   "execution_count": 18,
   "id": "659d64f4",
   "metadata": {},
   "outputs": [
    {
     "data": {
      "text/html": [
       "<div>\n",
       "<style scoped>\n",
       "    .dataframe tbody tr th:only-of-type {\n",
       "        vertical-align: middle;\n",
       "    }\n",
       "\n",
       "    .dataframe tbody tr th {\n",
       "        vertical-align: top;\n",
       "    }\n",
       "\n",
       "    .dataframe thead th {\n",
       "        text-align: right;\n",
       "    }\n",
       "</style>\n",
       "<table border=\"1\" class=\"dataframe\">\n",
       "  <thead>\n",
       "    <tr style=\"text-align: right;\">\n",
       "      <th></th>\n",
       "      <th>01/1999</th>\n",
       "      <th>01/2000</th>\n",
       "      <th>02/1999</th>\n",
       "      <th>02/2000</th>\n",
       "      <th>TOTAL</th>\n",
       "    </tr>\n",
       "  </thead>\n",
       "  <tbody>\n",
       "    <tr>\n",
       "      <th>0</th>\n",
       "      <td>80.0</td>\n",
       "      <td>98.0</td>\n",
       "      <td>60.0</td>\n",
       "      <td>100.0</td>\n",
       "      <td>338.0</td>\n",
       "    </tr>\n",
       "    <tr>\n",
       "      <th>1</th>\n",
       "      <td>60.0</td>\n",
       "      <td>71.0</td>\n",
       "      <td>60.0</td>\n",
       "      <td>94.0</td>\n",
       "      <td>285.0</td>\n",
       "    </tr>\n",
       "    <tr>\n",
       "      <th>2</th>\n",
       "      <td>140.0</td>\n",
       "      <td>169.0</td>\n",
       "      <td>120.0</td>\n",
       "      <td>194.0</td>\n",
       "      <td>623.0</td>\n",
       "    </tr>\n",
       "  </tbody>\n",
       "</table>\n",
       "</div>"
      ],
      "text/plain": [
       "   01/1999  01/2000  02/1999  02/2000  TOTAL\n",
       "0     80.0     98.0     60.0    100.0  338.0\n",
       "1     60.0     71.0     60.0     94.0  285.0\n",
       "2    140.0    169.0    120.0    194.0  623.0"
      ]
     },
     "execution_count": 18,
     "metadata": {},
     "output_type": "execute_result"
    }
   ],
   "source": [
    "table_cat1_ba['TOTAL'] = table_cat1_ba.sum(axis=1)\n",
    "table_cat1_ba.loc[len(table_cat1_ba.index)] = table_cat1_ba.sum()\n",
    "table_cat1_ba.head()"
   ]
  },
  {
   "cell_type": "code",
   "execution_count": 19,
   "id": "25b60f5e",
   "metadata": {},
   "outputs": [
    {
     "data": {
      "text/html": [
       "<div>\n",
       "<style scoped>\n",
       "    .dataframe tbody tr th:only-of-type {\n",
       "        vertical-align: middle;\n",
       "    }\n",
       "\n",
       "    .dataframe tbody tr th {\n",
       "        vertical-align: top;\n",
       "    }\n",
       "\n",
       "    .dataframe thead th {\n",
       "        text-align: right;\n",
       "    }\n",
       "</style>\n",
       "<table border=\"1\" class=\"dataframe\">\n",
       "  <thead>\n",
       "    <tr style=\"text-align: right;\">\n",
       "      <th></th>\n",
       "      <th>01/1999</th>\n",
       "      <th>01/2000</th>\n",
       "      <th>02/1999</th>\n",
       "      <th>02/2000</th>\n",
       "      <th>TOTAL</th>\n",
       "      <th>Nome da Loja</th>\n",
       "    </tr>\n",
       "  </thead>\n",
       "  <tbody>\n",
       "    <tr>\n",
       "      <th>0</th>\n",
       "      <td>80.0</td>\n",
       "      <td>98.0</td>\n",
       "      <td>60.0</td>\n",
       "      <td>100.0</td>\n",
       "      <td>338.0</td>\n",
       "      <td>LOJA1</td>\n",
       "    </tr>\n",
       "    <tr>\n",
       "      <th>1</th>\n",
       "      <td>60.0</td>\n",
       "      <td>71.0</td>\n",
       "      <td>60.0</td>\n",
       "      <td>94.0</td>\n",
       "      <td>285.0</td>\n",
       "      <td>LOJA2</td>\n",
       "    </tr>\n",
       "    <tr>\n",
       "      <th>2</th>\n",
       "      <td>140.0</td>\n",
       "      <td>169.0</td>\n",
       "      <td>120.0</td>\n",
       "      <td>194.0</td>\n",
       "      <td>623.0</td>\n",
       "      <td>TOTAL</td>\n",
       "    </tr>\n",
       "  </tbody>\n",
       "</table>\n",
       "</div>"
      ],
      "text/plain": [
       "   01/1999  01/2000  02/1999  02/2000  TOTAL Nome da Loja\n",
       "0     80.0     98.0     60.0    100.0  338.0        LOJA1\n",
       "1     60.0     71.0     60.0     94.0  285.0        LOJA2\n",
       "2    140.0    169.0    120.0    194.0  623.0        TOTAL"
      ]
     },
     "execution_count": 19,
     "metadata": {},
     "output_type": "execute_result"
    }
   ],
   "source": [
    "table_cat1_ba['Nome da Loja'] = [\"LOJA1\", \"LOJA2\", \"TOTAL\"]\n",
    "table_cat1_ba.head()"
   ]
  },
  {
   "cell_type": "markdown",
   "id": "106a4ee1",
   "metadata": {},
   "source": [
    "#### Tabela 1999 BA (Etapa 06)"
   ]
  },
  {
   "cell_type": "code",
   "execution_count": 20,
   "id": "88118e16",
   "metadata": {},
   "outputs": [
    {
     "data": {
      "text/html": [
       "<div>\n",
       "<style scoped>\n",
       "    .dataframe tbody tr th:only-of-type {\n",
       "        vertical-align: middle;\n",
       "    }\n",
       "\n",
       "    .dataframe tbody tr th {\n",
       "        vertical-align: top;\n",
       "    }\n",
       "\n",
       "    .dataframe thead th {\n",
       "        text-align: right;\n",
       "    }\n",
       "</style>\n",
       "<table border=\"1\" class=\"dataframe\">\n",
       "  <thead>\n",
       "    <tr style=\"text-align: right;\">\n",
       "      <th></th>\n",
       "      <th>CAT2</th>\n",
       "      <th>CAT1</th>\n",
       "    </tr>\n",
       "  </thead>\n",
       "  <tbody>\n",
       "    <tr>\n",
       "      <th>0</th>\n",
       "      <td>20.0</td>\n",
       "      <td>120.0</td>\n",
       "    </tr>\n",
       "    <tr>\n",
       "      <th>1</th>\n",
       "      <td>20.0</td>\n",
       "      <td>140.0</td>\n",
       "    </tr>\n",
       "  </tbody>\n",
       "</table>\n",
       "</div>"
      ],
      "text/plain": [
       "   CAT2   CAT1\n",
       "0  20.0  120.0\n",
       "1  20.0  140.0"
      ]
     },
     "execution_count": 20,
     "metadata": {},
     "output_type": "execute_result"
    }
   ],
   "source": [
    "table_1999_ba = catesian_format(df_1999_ba, 'dim_pro_categoria')\n",
    "table_1999_ba"
   ]
  },
  {
   "cell_type": "code",
   "execution_count": 21,
   "id": "0baf2d50",
   "metadata": {},
   "outputs": [],
   "source": [
    "table_1999_ba.loc[len(table_1999_ba.index)] = table_1999_ba.sum()\n",
    "table_1999_ba['Nome da Loja'] = ['LOJA1', 'LOJA2', 'TOTAL']"
   ]
  },
  {
   "cell_type": "code",
   "execution_count": 22,
   "id": "414f9f6f",
   "metadata": {},
   "outputs": [
    {
     "data": {
      "text/html": [
       "<div>\n",
       "<style scoped>\n",
       "    .dataframe tbody tr th:only-of-type {\n",
       "        vertical-align: middle;\n",
       "    }\n",
       "\n",
       "    .dataframe tbody tr th {\n",
       "        vertical-align: top;\n",
       "    }\n",
       "\n",
       "    .dataframe thead th {\n",
       "        text-align: right;\n",
       "    }\n",
       "</style>\n",
       "<table border=\"1\" class=\"dataframe\">\n",
       "  <thead>\n",
       "    <tr style=\"text-align: right;\">\n",
       "      <th></th>\n",
       "      <th>CAT2</th>\n",
       "      <th>CAT1</th>\n",
       "      <th>Nome da Loja</th>\n",
       "    </tr>\n",
       "  </thead>\n",
       "  <tbody>\n",
       "    <tr>\n",
       "      <th>0</th>\n",
       "      <td>20.0</td>\n",
       "      <td>120.0</td>\n",
       "      <td>LOJA1</td>\n",
       "    </tr>\n",
       "    <tr>\n",
       "      <th>1</th>\n",
       "      <td>20.0</td>\n",
       "      <td>140.0</td>\n",
       "      <td>LOJA2</td>\n",
       "    </tr>\n",
       "    <tr>\n",
       "      <th>2</th>\n",
       "      <td>40.0</td>\n",
       "      <td>260.0</td>\n",
       "      <td>TOTAL</td>\n",
       "    </tr>\n",
       "  </tbody>\n",
       "</table>\n",
       "</div>"
      ],
      "text/plain": [
       "   CAT2   CAT1 Nome da Loja\n",
       "0  20.0  120.0        LOJA1\n",
       "1  20.0  140.0        LOJA2\n",
       "2  40.0  260.0        TOTAL"
      ]
     },
     "execution_count": 22,
     "metadata": {},
     "output_type": "execute_result"
    }
   ],
   "source": [
    "table_1999_ba"
   ]
  },
  {
   "cell_type": "markdown",
   "id": "35265136",
   "metadata": {},
   "source": [
    "#### Gráfico faturamento por ano da categoria 1 na Bahia"
   ]
  },
  {
   "cell_type": "code",
   "execution_count": 49,
   "id": "59ec57f0",
   "metadata": {},
   "outputs": [
    {
     "data": {
      "text/plain": [
       "<AxesSubplot:xlabel='dim_tem_mes_ano', ylabel='fat_ven_faturamento'>"
      ]
     },
     "execution_count": 49,
     "metadata": {},
     "output_type": "execute_result"
    },
    {
     "data": {
      "image/png": "[encoded data removed]",
      "text/plain": [
       "<Figure size 432x288 with 1 Axes>"
      ]
     },
     "metadata": {
      "needs_background": "light"
     },
     "output_type": "display_data"
    }
   ],
   "source": [
    "sns.lineplot(data=df_cat1_ba,\n",
    "             x='dim_tem_mes_ano', \n",
    "             y='fat_ven_faturamento', \n",
    "             hue='dim_loj_nome',\n",
    "            palette='mako')"
   ]
  },
  {
   "cell_type": "markdown",
   "id": "f3785b27",
   "metadata": {},
   "source": [
    "### Etapa 08"
   ]
  },
  {
   "cell_type": "markdown",
   "id": "103d32c3",
   "metadata": {},
   "source": [
    "- Criar no Power BI uma  nova coluna do tipo data na tabela dimensão DIM_TEM_DIA_MES_ANO\n",
    "\n",
    "<img src=\"https://datascibr.notion.site/image/https%3A%2F%2Fs3-us-west-2.amazonaws.com%2Fsecure.notion-static.com%2Fac066c44-de74-4cc1-b47a-43c0fc42e568%2FUntitled.png?table=block&id=55893a63-668a-493d-a4cc-c0399ec5e321&spaceId=b0ad94d1-b13d-42e8-93ff-04ffcc74dc68&width=1150&userId=&cache=v2\" style=\"height: 250px\" />"
   ]
  },
  {
   "cell_type": "code",
   "execution_count": 24,
   "id": "bb27cd67",
   "metadata": {},
   "outputs": [
    {
     "data": {
      "text/html": [
       "<div>\n",
       "<style scoped>\n",
       "    .dataframe tbody tr th:only-of-type {\n",
       "        vertical-align: middle;\n",
       "    }\n",
       "\n",
       "    .dataframe tbody tr th {\n",
       "        vertical-align: top;\n",
       "    }\n",
       "\n",
       "    .dataframe thead th {\n",
       "        text-align: right;\n",
       "    }\n",
       "</style>\n",
       "<table border=\"1\" class=\"dataframe\">\n",
       "  <thead>\n",
       "    <tr style=\"text-align: right;\">\n",
       "      <th></th>\n",
       "      <th>Unnamed: 0</th>\n",
       "      <th>dim_loj_nome</th>\n",
       "      <th>dim_loj_estado</th>\n",
       "      <th>dim_pro_nome</th>\n",
       "      <th>dim_pro_categoria</th>\n",
       "      <th>dim_pro_familia</th>\n",
       "      <th>dim_tem_dia</th>\n",
       "      <th>dim_tem_mes</th>\n",
       "      <th>dim_tem_ano</th>\n",
       "      <th>fat_ven_quantidade</th>\n",
       "      <th>fat_ven_faturamento</th>\n",
       "      <th>date</th>\n",
       "      <th>dim_tem_mes_ano</th>\n",
       "      <th>dim_dia_mes_ano</th>\n",
       "    </tr>\n",
       "  </thead>\n",
       "  <tbody>\n",
       "    <tr>\n",
       "      <th>0</th>\n",
       "      <td>0</td>\n",
       "      <td>LOJA1</td>\n",
       "      <td>BA</td>\n",
       "      <td>P1</td>\n",
       "      <td>CAT1</td>\n",
       "      <td>F1</td>\n",
       "      <td>15</td>\n",
       "      <td>1</td>\n",
       "      <td>1999</td>\n",
       "      <td>10.0</td>\n",
       "      <td>20.0</td>\n",
       "      <td>1999-01-15</td>\n",
       "      <td>01/1999</td>\n",
       "      <td>Friday, January 15, 1999</td>\n",
       "    </tr>\n",
       "    <tr>\n",
       "      <th>1</th>\n",
       "      <td>1</td>\n",
       "      <td>LOJA1</td>\n",
       "      <td>BA</td>\n",
       "      <td>P2</td>\n",
       "      <td>CAT1</td>\n",
       "      <td>F1</td>\n",
       "      <td>15</td>\n",
       "      <td>1</td>\n",
       "      <td>1999</td>\n",
       "      <td>30.0</td>\n",
       "      <td>40.0</td>\n",
       "      <td>1999-01-15</td>\n",
       "      <td>01/1999</td>\n",
       "      <td>Friday, January 15, 1999</td>\n",
       "    </tr>\n",
       "    <tr>\n",
       "      <th>2</th>\n",
       "      <td>2</td>\n",
       "      <td>LOJA1</td>\n",
       "      <td>BA</td>\n",
       "      <td>P3</td>\n",
       "      <td>CAT1</td>\n",
       "      <td>F1</td>\n",
       "      <td>15</td>\n",
       "      <td>1</td>\n",
       "      <td>1999</td>\n",
       "      <td>10.0</td>\n",
       "      <td>20.0</td>\n",
       "      <td>1999-01-15</td>\n",
       "      <td>01/1999</td>\n",
       "      <td>Friday, January 15, 1999</td>\n",
       "    </tr>\n",
       "    <tr>\n",
       "      <th>3</th>\n",
       "      <td>3</td>\n",
       "      <td>LOJA1</td>\n",
       "      <td>BA</td>\n",
       "      <td>P1</td>\n",
       "      <td>CAT1</td>\n",
       "      <td>F1</td>\n",
       "      <td>15</td>\n",
       "      <td>2</td>\n",
       "      <td>1999</td>\n",
       "      <td>10.0</td>\n",
       "      <td>20.0</td>\n",
       "      <td>1999-02-15</td>\n",
       "      <td>02/1999</td>\n",
       "      <td>Monday, February 15, 1999</td>\n",
       "    </tr>\n",
       "    <tr>\n",
       "      <th>4</th>\n",
       "      <td>4</td>\n",
       "      <td>LOJA1</td>\n",
       "      <td>BA</td>\n",
       "      <td>P2</td>\n",
       "      <td>CAT1</td>\n",
       "      <td>F1</td>\n",
       "      <td>15</td>\n",
       "      <td>2</td>\n",
       "      <td>1999</td>\n",
       "      <td>30.0</td>\n",
       "      <td>40.0</td>\n",
       "      <td>1999-02-15</td>\n",
       "      <td>02/1999</td>\n",
       "      <td>Monday, February 15, 1999</td>\n",
       "    </tr>\n",
       "  </tbody>\n",
       "</table>\n",
       "</div>"
      ],
      "text/plain": [
       "   Unnamed: 0 dim_loj_nome dim_loj_estado dim_pro_nome dim_pro_categoria  \\\n",
       "0           0        LOJA1             BA           P1              CAT1   \n",
       "1           1        LOJA1             BA           P2              CAT1   \n",
       "2           2        LOJA1             BA           P3              CAT1   \n",
       "3           3        LOJA1             BA           P1              CAT1   \n",
       "4           4        LOJA1             BA           P2              CAT1   \n",
       "\n",
       "  dim_pro_familia dim_tem_dia dim_tem_mes dim_tem_ano  fat_ven_quantidade  \\\n",
       "0            F1            15           1        1999                10.0   \n",
       "1            F1            15           1        1999                30.0   \n",
       "2            F1            15           1        1999                10.0   \n",
       "3            F1            15           2        1999                10.0   \n",
       "4            F1            15           2        1999                30.0   \n",
       "\n",
       "   fat_ven_faturamento       date dim_tem_mes_ano            dim_dia_mes_ano  \n",
       "0                 20.0 1999-01-15         01/1999   Friday, January 15, 1999  \n",
       "1                 40.0 1999-01-15         01/1999   Friday, January 15, 1999  \n",
       "2                 20.0 1999-01-15         01/1999   Friday, January 15, 1999  \n",
       "3                 20.0 1999-02-15         02/1999  Monday, February 15, 1999  \n",
       "4                 40.0 1999-02-15         02/1999  Monday, February 15, 1999  "
      ]
     },
     "execution_count": 24,
     "metadata": {},
     "output_type": "execute_result"
    }
   ],
   "source": [
    "df['dim_dia_mes_ano'] = df['date'].dt.strftime('%A, %B %d, %Y')\n",
    "df.head()"
   ]
  },
  {
   "cell_type": "markdown",
   "id": "42c8d07e",
   "metadata": {},
   "source": [
    "### Etapa 09"
   ]
  },
  {
   "cell_type": "markdown",
   "id": "456f9f45",
   "metadata": {},
   "source": [
    "- Criar uma medida para apresentar o crescimento percentual do faturamento dos estados “BA” e “PB” entre os anos 1999 e 2000.\n",
    "- Apresentar as tabelas com os componentes"
   ]
  },
  {
   "cell_type": "markdown",
   "id": "5c3151a2",
   "metadata": {},
   "source": [
    "<img src=\"https://datascibr.notion.site/image/https%3A%2F%2Fs3-us-west-2.amazonaws.com%2Fsecure.notion-static.com%2Fb6f50066-8b19-463a-b1f9-a34fec048f58%2FpassoIX.png?table=block&id=caef174a-435b-43e4-86d4-11cf9a16c704&spaceId=b0ad94d1-b13d-42e8-93ff-04ffcc74dc68&width=770&userId=&cache=v2\" style=\"width: 250px\"/>"
   ]
  },
  {
   "cell_type": "code",
   "execution_count": 25,
   "id": "28968c5c",
   "metadata": {},
   "outputs": [
    {
     "name": "stdout",
     "output_type": "stream",
     "text": [
      "Faturamento total: 1065.0\n"
     ]
    }
   ],
   "source": [
    "total = df['fat_ven_faturamento'].sum()\n",
    "print(f\"Faturamento total: {total}\")"
   ]
  },
  {
   "cell_type": "code",
   "execution_count": 26,
   "id": "276f94b5",
   "metadata": {},
   "outputs": [
    {
     "name": "stdout",
     "output_type": "stream",
     "text": [
      "Ano anterior ao atual: 1999\n"
     ]
    }
   ],
   "source": [
    "prior_current = (df['dim_tem_ano']\n",
    "                .drop_duplicates()\n",
    "                .astype(int)\n",
    "                .nlargest(2)\n",
    "                .to_list()[-1])\n",
    "print(f\"Ano anterior ao atual: {prior_current}\")"
   ]
  },
  {
   "cell_type": "code",
   "execution_count": 27,
   "id": "a2c9246e",
   "metadata": {},
   "outputs": [
    {
     "name": "stdout",
     "output_type": "stream",
     "text": [
      "O faturamento total do último ano foi: 440.0\n"
     ]
    }
   ],
   "source": [
    "prior_current_total = (df\n",
    "                       .query(f\"dim_tem_ano == '{prior_current}'\")\n",
    "                       .loc[:, 'fat_ven_faturamento']\n",
    "                       .sum())\n",
    "print(f\"O faturamento total do último ano foi: {prior_current_total}\")"
   ]
  },
  {
   "cell_type": "code",
   "execution_count": 28,
   "id": "3658e426",
   "metadata": {},
   "outputs": [
    {
     "name": "stdout",
     "output_type": "stream",
     "text": [
      "O faturamento Yoy foi: 0.4204545454545454\n"
     ]
    }
   ],
   "source": [
    "yoy = ((total-prior_current_total)/prior_current_total) - 1\n",
    "print(f\"O faturamento Yoy foi: {yoy}\")"
   ]
  },
  {
   "cell_type": "markdown",
   "id": "6278255d",
   "metadata": {},
   "source": [
    "#### Tabela faturamento yoy por estado"
   ]
  },
  {
   "cell_type": "code",
   "execution_count": 54,
   "id": "83a1a039",
   "metadata": {},
   "outputs": [],
   "source": [
    "def calculate_yoy(dataframe, query_string = None):\n",
    "    if query_string:\n",
    "        dataframe = dataframe.query(query_string)\n",
    "        \n",
    "    total = dataframe['fat_ven_faturamento'].sum()\n",
    "    \n",
    "    prior_current = (dataframe['dim_tem_ano']\n",
    "                     .drop_duplicates()\n",
    "                     .astype(int)\n",
    "                     .nlargest(2)\n",
    "                     .to_list()[-1])\n",
    "    \n",
    "    prior_current_total = (dataframe\n",
    "                           .query(f\"dim_tem_ano == '{prior_current}'\")\n",
    "                           .loc[:, 'fat_ven_faturamento']\n",
    "                           .sum())\n",
    "    yoy = ((total-prior_current_total)/prior_current_total) - 1\n",
    "    return yoy"
   ]
  },
  {
   "cell_type": "code",
   "execution_count": 55,
   "id": "a8f8ac25",
   "metadata": {},
   "outputs": [
    {
     "data": {
      "text/plain": [
       "0.20999999999999996"
      ]
     },
     "execution_count": 55,
     "metadata": {},
     "output_type": "execute_result"
    }
   ],
   "source": [
    "calculate_yoy(df, \"dim_loj_estado == 'BA'\")"
   ]
  },
  {
   "cell_type": "code",
   "execution_count": 56,
   "id": "61fe40f0",
   "metadata": {},
   "outputs": [
    {
     "data": {
      "text/plain": [
       "0.8714285714285714"
      ]
     },
     "execution_count": 56,
     "metadata": {},
     "output_type": "execute_result"
    }
   ],
   "source": [
    "calculate_yoy(df, \"dim_loj_estado == 'PB'\")"
   ]
  },
  {
   "cell_type": "code",
   "execution_count": 63,
   "id": "cd48c35c",
   "metadata": {},
   "outputs": [
    {
     "data": {
      "text/html": [
       "<div>\n",
       "<style scoped>\n",
       "    .dataframe tbody tr th:only-of-type {\n",
       "        vertical-align: middle;\n",
       "    }\n",
       "\n",
       "    .dataframe tbody tr th {\n",
       "        vertical-align: top;\n",
       "    }\n",
       "\n",
       "    .dataframe thead th {\n",
       "        text-align: right;\n",
       "    }\n",
       "</style>\n",
       "<table border=\"1\" class=\"dataframe\">\n",
       "  <thead>\n",
       "    <tr style=\"text-align: right;\">\n",
       "      <th></th>\n",
       "      <th>Estados</th>\n",
       "      <th>Faturamento yoy %</th>\n",
       "    </tr>\n",
       "  </thead>\n",
       "  <tbody>\n",
       "    <tr>\n",
       "      <th>0</th>\n",
       "      <td>BA</td>\n",
       "      <td>21.00</td>\n",
       "    </tr>\n",
       "    <tr>\n",
       "      <th>1</th>\n",
       "      <td>PB</td>\n",
       "      <td>87.14</td>\n",
       "    </tr>\n",
       "  </tbody>\n",
       "</table>\n",
       "</div>"
      ],
      "text/plain": [
       "  Estados  Faturamento yoy %\n",
       "0      BA              21.00\n",
       "1      PB              87.14"
      ]
     },
     "execution_count": 63,
     "metadata": {},
     "output_type": "execute_result"
    }
   ],
   "source": [
    "table_faturamento_estado = pd.DataFrame(\n",
    "    {'Estados': ['BA', 'PB'], \n",
    "     'Faturamento yoy %': [\n",
    "           calculate_yoy(df, \"dim_loj_estado == 'BA'\") * 100,\n",
    "           calculate_yoy(df, \"dim_loj_estado == 'PB'\") * 100\n",
    "       ]}\n",
    ").round(2)\n",
    "table_faturamento_estado"
   ]
  },
  {
   "cell_type": "markdown",
   "id": "86fb79a5",
   "metadata": {},
   "source": [
    "#### Tabela faturamento por ano e estado"
   ]
  },
  {
   "cell_type": "code",
   "execution_count": 70,
   "id": "cca2d6c3",
   "metadata": {},
   "outputs": [],
   "source": [
    "keys = ['dim_loj_estado', 'dim_tem_ano', 'fat_ven_faturamento']"
   ]
  },
  {
   "cell_type": "code",
   "execution_count": 75,
   "id": "aee669b4",
   "metadata": {},
   "outputs": [
    {
     "data": {
      "text/html": [
       "<div>\n",
       "<style scoped>\n",
       "    .dataframe tbody tr th:only-of-type {\n",
       "        vertical-align: middle;\n",
       "    }\n",
       "\n",
       "    .dataframe tbody tr th {\n",
       "        vertical-align: top;\n",
       "    }\n",
       "\n",
       "    .dataframe thead th {\n",
       "        text-align: right;\n",
       "    }\n",
       "</style>\n",
       "<table border=\"1\" class=\"dataframe\">\n",
       "  <thead>\n",
       "    <tr style=\"text-align: right;\">\n",
       "      <th></th>\n",
       "      <th>dim_tem_ano</th>\n",
       "      <th>dim_loj_estado</th>\n",
       "      <th>fat_ven_faturamento</th>\n",
       "    </tr>\n",
       "  </thead>\n",
       "  <tbody>\n",
       "    <tr>\n",
       "      <th>0</th>\n",
       "      <td>1999</td>\n",
       "      <td>BA</td>\n",
       "      <td>300.0</td>\n",
       "    </tr>\n",
       "    <tr>\n",
       "      <th>1</th>\n",
       "      <td>1999</td>\n",
       "      <td>PB</td>\n",
       "      <td>140.0</td>\n",
       "    </tr>\n",
       "    <tr>\n",
       "      <th>2</th>\n",
       "      <td>2000</td>\n",
       "      <td>BA</td>\n",
       "      <td>363.0</td>\n",
       "    </tr>\n",
       "    <tr>\n",
       "      <th>3</th>\n",
       "      <td>2000</td>\n",
       "      <td>PB</td>\n",
       "      <td>262.0</td>\n",
       "    </tr>\n",
       "  </tbody>\n",
       "</table>\n",
       "</div>"
      ],
      "text/plain": [
       "  dim_tem_ano dim_loj_estado  fat_ven_faturamento\n",
       "0        1999             BA                300.0\n",
       "1        1999             PB                140.0\n",
       "2        2000             BA                363.0\n",
       "3        2000             PB                262.0"
      ]
     },
     "execution_count": 75,
     "metadata": {},
     "output_type": "execute_result"
    }
   ],
   "source": [
    "year_states = (\n",
    "    df.loc[:, keys]\n",
    "    .groupby(['dim_tem_ano', 'dim_loj_estado'],as_index=False)\n",
    "    .sum()\n",
    ")\n",
    "year_states"
   ]
  },
  {
   "cell_type": "code",
   "execution_count": 76,
   "id": "f05c74cb",
   "metadata": {},
   "outputs": [],
   "source": [
    "table_year_states = catesian_format(fat_ano, key=\"dim_tem_ano\")"
   ]
  },
  {
   "cell_type": "code",
   "execution_count": 77,
   "id": "6be1a703",
   "metadata": {},
   "outputs": [
    {
     "data": {
      "text/html": [
       "<div>\n",
       "<style scoped>\n",
       "    .dataframe tbody tr th:only-of-type {\n",
       "        vertical-align: middle;\n",
       "    }\n",
       "\n",
       "    .dataframe tbody tr th {\n",
       "        vertical-align: top;\n",
       "    }\n",
       "\n",
       "    .dataframe thead th {\n",
       "        text-align: right;\n",
       "    }\n",
       "</style>\n",
       "<table border=\"1\" class=\"dataframe\">\n",
       "  <thead>\n",
       "    <tr style=\"text-align: right;\">\n",
       "      <th></th>\n",
       "      <th>1999</th>\n",
       "      <th>2000</th>\n",
       "      <th>TOTAL</th>\n",
       "      <th>Estados</th>\n",
       "    </tr>\n",
       "  </thead>\n",
       "  <tbody>\n",
       "    <tr>\n",
       "      <th>0</th>\n",
       "      <td>300.0</td>\n",
       "      <td>363.0</td>\n",
       "      <td>663.0</td>\n",
       "      <td>BA</td>\n",
       "    </tr>\n",
       "    <tr>\n",
       "      <th>1</th>\n",
       "      <td>140.0</td>\n",
       "      <td>262.0</td>\n",
       "      <td>402.0</td>\n",
       "      <td>PB</td>\n",
       "    </tr>\n",
       "  </tbody>\n",
       "</table>\n",
       "</div>"
      ],
      "text/plain": [
       "    1999   2000  TOTAL Estados\n",
       "0  300.0  363.0  663.0      BA\n",
       "1  140.0  262.0  402.0      PB"
      ]
     },
     "execution_count": 77,
     "metadata": {},
     "output_type": "execute_result"
    }
   ],
   "source": [
    "table_year_states['TOTAL'] = table_year_states.sum(axis=1)\n",
    "table_year_states['Estados'] = ['BA', 'PB']\n",
    "table_year_states"
   ]
  },
  {
   "cell_type": "markdown",
   "id": "b18907f6",
   "metadata": {},
   "source": [
    "#### Gráfico faturamento por ano e estado"
   ]
  },
  {
   "cell_type": "code",
   "execution_count": 82,
   "id": "f5bb4d29",
   "metadata": {},
   "outputs": [
    {
     "data": {
      "text/plain": [
       "<AxesSubplot:xlabel='dim_tem_ano', ylabel='fat_ven_faturamento'>"
      ]
     },
     "execution_count": 82,
     "metadata": {},
     "output_type": "execute_result"
    },
    {
     "data": {
      "image/png": "[encoded data removed]",
      "text/plain": [
       "<Figure size 432x288 with 1 Axes>"
      ]
     },
     "metadata": {
      "needs_background": "light"
     },
     "output_type": "display_data"
    }
   ],
   "source": [
    "sns.lineplot(data=year_states, \n",
    "             x='dim_tem_ano', \n",
    "             y='fat_ven_faturamento', \n",
    "             hue='dim_loj_estado',\n",
    "            palette='mako')"
   ]
  },
  {
   "cell_type": "code",
   "execution_count": null,
   "id": "3629b737",
   "metadata": {},
   "outputs": [],
   "source": []
  }
 ],
 "metadata": {
  "kernelspec": {
   "display_name": "Python 3 (ipykernel)",
   "language": "python",
   "name": "python3"
  },
  "language_info": {
   "codemirror_mode": {
    "name": "ipython",
    "version": 3
   },
   "file_extension": ".py",
   "mimetype": "text/x-python",
   "name": "python",
   "nbconvert_exporter": "python",
   "pygments_lexer": "ipython3",
   "version": "3.9.7"
  }
 },
 "nbformat": 4,
 "nbformat_minor": 5
}
